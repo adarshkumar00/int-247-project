{
  "nbformat": 4,
  "nbformat_minor": 0,
  "metadata": {
    "kernelspec": {
      "display_name": "Python 3",
      "language": "python",
      "name": "python3"
    },
    "language_info": {
      "codemirror_mode": {
        "name": "ipython",
        "version": 3
      },
      "file_extension": ".py",
      "mimetype": "text/x-python",
      "name": "python",
      "nbconvert_exporter": "python",
      "pygments_lexer": "ipython3",
      "version": "3.7.4"
    },
    "colab": {
      "name": "pp prjct.ipynb",
      "provenance": [],
      "collapsed_sections": [],
      "toc_visible": true
    }
  },
  "cells": [
    {
      "cell_type": "code",
      "metadata": {
        "id": "VrF4zSQFgBkc",
        "colab_type": "code",
        "outputId": "74c2ff63-c4db-43de-e785-1897dfbfe2a7",
        "colab": {
          "base_uri": "https://localhost:8080/",
          "height": 208
        }
      },
      "source": [
        "!wget http://archive.ics.uci.edu/ml/machine-learning-databases/00482/dataset.zip"
      ],
      "execution_count": 0,
      "outputs": [
        {
          "output_type": "stream",
          "text": [
            "--2020-04-09 19:52:36--  http://archive.ics.uci.edu/ml/machine-learning-databases/00482/dataset.zip\n",
            "Resolving archive.ics.uci.edu (archive.ics.uci.edu)... 128.195.10.252\n",
            "Connecting to archive.ics.uci.edu (archive.ics.uci.edu)|128.195.10.252|:80... connected.\n",
            "HTTP request sent, awaiting response... 200 OK\n",
            "Length: 240539 (235K) [application/x-httpd-php]\n",
            "Saving to: ‘dataset.zip’\n",
            "\n",
            "\rdataset.zip           0%[                    ]       0  --.-KB/s               \rdataset.zip          45%[========>           ] 106.61K   434KB/s               \rdataset.zip         100%[===================>] 234.90K   742KB/s    in 0.3s    \n",
            "\n",
            "2020-04-09 19:52:37 (742 KB/s) - ‘dataset.zip’ saved [240539/240539]\n",
            "\n"
          ],
          "name": "stdout"
        }
      ]
    },
    {
      "cell_type": "code",
      "metadata": {
        "id": "N7DR5WoVgKxM",
        "colab_type": "code",
        "outputId": "77195282-ae8e-46ab-b6be-1c0cc6ad753a",
        "colab": {
          "base_uri": "https://localhost:8080/",
          "height": 52
        }
      },
      "source": [
        "!unzip dataset.zip"
      ],
      "execution_count": 0,
      "outputs": [
        {
          "output_type": "stream",
          "text": [
            "Archive:  dataset.zip\n",
            "  inflating: dataset.csv             \n"
          ],
          "name": "stdout"
        }
      ]
    },
    {
      "cell_type": "code",
      "metadata": {
        "id": "L7VFMWHVALTn",
        "colab_type": "code",
        "colab": {}
      },
      "source": [
        "import pandas as pd\n",
        "import numpy as np\n",
        "import matplotlib.pyplot as plt\n",
        "from sklearn.preprocessing import LabelEncoder"
      ],
      "execution_count": 0,
      "outputs": []
    },
    {
      "cell_type": "code",
      "metadata": {
        "id": "puByNMBrALTs",
        "colab_type": "code",
        "colab": {}
      },
      "source": [
        "data=pd.read_csv('dataset.csv')"
      ],
      "execution_count": 0,
      "outputs": []
    },
    {
      "cell_type": "code",
      "metadata": {
        "id": "c4JiqYZaiI0b",
        "colab_type": "code",
        "outputId": "a121e168-3a5b-4509-da4c-700d79dbe066",
        "colab": {
          "base_uri": "https://localhost:8080/",
          "height": 104
        }
      },
      "source": [
        "data.isnull().sum()"
      ],
      "execution_count": 0,
      "outputs": [
        {
          "output_type": "execute_result",
          "data": {
            "text/plain": [
              "SystemCodeNumber    0\n",
              "Capacity            0\n",
              "Occupancy           0\n",
              "LastUpdated         0\n",
              "dtype: int64"
            ]
          },
          "metadata": {
            "tags": []
          },
          "execution_count": 44
        }
      ]
    },
    {
      "cell_type": "code",
      "metadata": {
        "id": "0N2saaSiALT5",
        "colab_type": "code",
        "outputId": "20240a9d-c4dd-40f6-d5f7-7753a51b02a6",
        "colab": {
          "base_uri": "https://localhost:8080/",
          "height": 34
        }
      },
      "source": [
        "data.columns"
      ],
      "execution_count": 0,
      "outputs": [
        {
          "output_type": "execute_result",
          "data": {
            "text/plain": [
              "Index(['SystemCodeNumber', 'Capacity', 'Occupancy', 'LastUpdated'], dtype='object')"
            ]
          },
          "metadata": {
            "tags": []
          },
          "execution_count": 45
        }
      ]
    },
    {
      "cell_type": "code",
      "metadata": {
        "id": "mnuiny9rALT9",
        "colab_type": "code",
        "outputId": "95e47054-d816-403c-f418-2ce20bfccbb5",
        "colab": {
          "base_uri": "https://localhost:8080/",
          "height": 260
        }
      },
      "source": [
        "print(data.head)"
      ],
      "execution_count": 0,
      "outputs": [
        {
          "output_type": "stream",
          "text": [
            "<bound method NDFrame.head of       SystemCodeNumber  Capacity  Occupancy          LastUpdated\n",
            "0          BHMBCCMKT01       577         61  2016-10-04 07:59:42\n",
            "1          BHMBCCMKT01       577         64  2016-10-04 08:25:42\n",
            "2          BHMBCCMKT01       577         80  2016-10-04 08:59:42\n",
            "3          BHMBCCMKT01       577        107  2016-10-04 09:32:46\n",
            "4          BHMBCCMKT01       577        150  2016-10-04 09:59:48\n",
            "...                ...       ...        ...                  ...\n",
            "35712         Shopping      1920       1517  2016-12-19 14:30:33\n",
            "35713         Shopping      1920       1487  2016-12-19 15:03:34\n",
            "35714         Shopping      1920       1432  2016-12-19 15:29:33\n",
            "35715         Shopping      1920       1321  2016-12-19 16:03:35\n",
            "35716         Shopping      1920       1180  2016-12-19 16:30:35\n",
            "\n",
            "[35717 rows x 4 columns]>\n"
          ],
          "name": "stdout"
        }
      ]
    },
    {
      "cell_type": "code",
      "metadata": {
        "id": "J0YhsTTdALUA",
        "colab_type": "code",
        "colab": {}
      },
      "source": [
        "data_arr=data.values[:,:3]"
      ],
      "execution_count": 0,
      "outputs": []
    },
    {
      "cell_type": "code",
      "metadata": {
        "id": "fJGeBN9ZALUE",
        "colab_type": "code",
        "outputId": "b5777dda-f3e8-4301-f54a-0dbad314e115",
        "colab": {
          "base_uri": "https://localhost:8080/",
          "height": 34
        }
      },
      "source": [
        "data_arr.shape"
      ],
      "execution_count": 0,
      "outputs": [
        {
          "output_type": "execute_result",
          "data": {
            "text/plain": [
              "(35717, 3)"
            ]
          },
          "metadata": {
            "tags": []
          },
          "execution_count": 48
        }
      ]
    },
    {
      "cell_type": "code",
      "metadata": {
        "id": "n28ks7LeALUG",
        "colab_type": "code",
        "outputId": "aea511a6-797d-45ab-d398-059c98d6834a",
        "colab": {
          "base_uri": "https://localhost:8080/",
          "height": 156
        }
      },
      "source": [
        "np.unique(data_arr[:,0])"
      ],
      "execution_count": 0,
      "outputs": [
        {
          "output_type": "execute_result",
          "data": {
            "text/plain": [
              "array(['BHMBCCMKT01', 'BHMBCCPST01', 'BHMBCCSNH01', 'BHMBCCTHL01',\n",
              "       'BHMBRCBRG01', 'BHMBRCBRG02', 'BHMBRCBRG03', 'BHMBRTARC01',\n",
              "       'BHMEURBRD01', 'BHMEURBRD02', 'BHMMBMMBX01', 'BHMNCPHST01',\n",
              "       'BHMNCPLDH01', 'BHMNCPNHS01', 'BHMNCPNST01', 'BHMNCPPLS01',\n",
              "       'BHMNCPRAN01', 'Broad Street', 'Bull Ring', 'NIA Car Parks',\n",
              "       'NIA North', 'NIA South', 'Others-CCCPS105a', 'Others-CCCPS119a',\n",
              "       'Others-CCCPS133', 'Others-CCCPS135a', 'Others-CCCPS202',\n",
              "       'Others-CCCPS8', 'Others-CCCPS98', 'Shopping'], dtype=object)"
            ]
          },
          "metadata": {
            "tags": []
          },
          "execution_count": 49
        }
      ]
    },
    {
      "cell_type": "code",
      "metadata": {
        "id": "4J0W8U-YALUJ",
        "colab_type": "code",
        "outputId": "bb951ce3-2bfe-4f70-f756-83ab1f0db095",
        "colab": {
          "base_uri": "https://localhost:8080/",
          "height": 139
        }
      },
      "source": [
        "data_arr"
      ],
      "execution_count": 0,
      "outputs": [
        {
          "output_type": "execute_result",
          "data": {
            "text/plain": [
              "array([['BHMBCCMKT01', 577, 61],\n",
              "       ['BHMBCCMKT01', 577, 64],\n",
              "       ['BHMBCCMKT01', 577, 80],\n",
              "       ...,\n",
              "       ['Shopping', 1920, 1432],\n",
              "       ['Shopping', 1920, 1321],\n",
              "       ['Shopping', 1920, 1180]], dtype=object)"
            ]
          },
          "metadata": {
            "tags": []
          },
          "execution_count": 50
        }
      ]
    },
    {
      "cell_type": "code",
      "metadata": {
        "id": "1WfV6z9lALUM",
        "colab_type": "code",
        "colab": {}
      },
      "source": [
        "le=LabelEncoder()"
      ],
      "execution_count": 0,
      "outputs": []
    },
    {
      "cell_type": "code",
      "metadata": {
        "id": "XHHj_odzALUO",
        "colab_type": "code",
        "colab": {}
      },
      "source": [
        "data_arr[:,0]=le.fit_transform(data_arr[:,0])"
      ],
      "execution_count": 0,
      "outputs": []
    },
    {
      "cell_type": "code",
      "metadata": {
        "id": "dRi4UVoAALUR",
        "colab_type": "code",
        "outputId": "a9a43d1c-fd09-40c9-c339-862be66ee8ed",
        "colab": {
          "base_uri": "https://localhost:8080/",
          "height": 34
        }
      },
      "source": [
        "len(le.classes_)"
      ],
      "execution_count": 0,
      "outputs": [
        {
          "output_type": "execute_result",
          "data": {
            "text/plain": [
              "30"
            ]
          },
          "metadata": {
            "tags": []
          },
          "execution_count": 53
        }
      ]
    },
    {
      "cell_type": "markdown",
      "metadata": {
        "id": "f9hT1VQCALUU",
        "colab_type": "text"
      },
      "source": [
        "#### Clustering"
      ]
    },
    {
      "cell_type": "code",
      "metadata": {
        "id": "1DCsiy-UALUV",
        "colab_type": "code",
        "outputId": "adb66738-f835-4245-c380-b87e0969ef7a",
        "colab": {
          "base_uri": "https://localhost:8080/",
          "height": 139
        }
      },
      "source": [
        "data_arr"
      ],
      "execution_count": 0,
      "outputs": [
        {
          "output_type": "execute_result",
          "data": {
            "text/plain": [
              "array([[0, 577, 61],\n",
              "       [0, 577, 64],\n",
              "       [0, 577, 80],\n",
              "       ...,\n",
              "       [29, 1920, 1432],\n",
              "       [29, 1920, 1321],\n",
              "       [29, 1920, 1180]], dtype=object)"
            ]
          },
          "metadata": {
            "tags": []
          },
          "execution_count": 54
        }
      ]
    },
    {
      "cell_type": "code",
      "metadata": {
        "id": "h0INYxvYALUX",
        "colab_type": "code",
        "colab": {}
      },
      "source": [
        "from sklearn.svm import SVC\n",
        "import matplotlib.pyplot as plt\n",
        "from sklearn.cluster import KMeans\n",
        "from sklearn.preprocessing import StandardScaler\n"
      ],
      "execution_count": 0,
      "outputs": []
    },
    {
      "cell_type": "code",
      "metadata": {
        "id": "el4THjt8jCLQ",
        "colab_type": "code",
        "outputId": "57845c13-58e6-4b3e-e9eb-061ce3f97cd2",
        "colab": {
          "base_uri": "https://localhost:8080/",
          "height": 34
        }
      },
      "source": [
        "sc=StandardScaler()\n",
        "data_arr=sc.fit_transform(data_arr)\n",
        "print(np.mean(data_arr,axis=0) , np.std(data_arr,axis=0))"
      ],
      "execution_count": 0,
      "outputs": [
        {
          "output_type": "stream",
          "text": [
            "[-2.54639164e-17  0.00000000e+00  2.54639164e-17] [1. 1. 1.]\n"
          ],
          "name": "stdout"
        }
      ]
    },
    {
      "cell_type": "code",
      "metadata": {
        "id": "eGkVQndKALUa",
        "colab_type": "code",
        "outputId": "437ba633-b816-4568-fd0b-3837f63a9f37",
        "colab": {
          "base_uri": "https://localhost:8080/",
          "height": 265
        }
      },
      "source": [
        "plt.scatter(data_arr[:,0],data_arr[:,1],c='white',edgecolor='black',marker='o')\n",
        "plt.grid()\n",
        "plt.show()"
      ],
      "execution_count": 0,
      "outputs": [
        {
          "output_type": "display_data",
          "data": {
            "image/png": "[encoded data removed]",
            "text/plain": [
              "<Figure size 432x288 with 1 Axes>"
            ]
          },
          "metadata": {
            "tags": []
          }
        }
      ]
    },
    {
      "cell_type": "code",
      "metadata": {
        "id": "EEhQuFYyALUc",
        "colab_type": "code",
        "colab": {}
      },
      "source": [
        "km=KMeans(n_clusters=5,init='random',n_init=10,max_iter=300,random_state=0)"
      ],
      "execution_count": 0,
      "outputs": []
    },
    {
      "cell_type": "code",
      "metadata": {
        "id": "723ynGrWALUe",
        "colab_type": "code",
        "colab": {}
      },
      "source": [
        "x_pred=km.fit_predict(data_arr)"
      ],
      "execution_count": 0,
      "outputs": []
    },
    {
      "cell_type": "code",
      "metadata": {
        "id": "xji60fr2ALUi",
        "colab_type": "code",
        "colab": {}
      },
      "source": [
        "center=km.cluster_centers_"
      ],
      "execution_count": 0,
      "outputs": []
    },
    {
      "cell_type": "code",
      "metadata": {
        "id": "9ojhUOXoALUk",
        "colab_type": "code",
        "outputId": "314fa2be-4e00-4049-90be-a6edd2290e54",
        "colab": {
          "base_uri": "https://localhost:8080/",
          "height": 104
        }
      },
      "source": [
        "center"
      ],
      "execution_count": 0,
      "outputs": [
        {
          "output_type": "execute_result",
          "data": {
            "text/plain": [
              "array([[ 0.01653545, -0.55959892, -0.44830872],\n",
              "       [ 1.0113663 ,  2.29230944,  3.2376056 ],\n",
              "       [ 1.15615641,  1.34127726,  0.92256746],\n",
              "       [-1.18230184, -0.63984964, -0.46673944],\n",
              "       [ 1.17819358,  0.67785619,  0.00493525]])"
            ]
          },
          "metadata": {
            "tags": []
          },
          "execution_count": 69
        }
      ]
    },
    {
      "cell_type": "code",
      "metadata": {
        "id": "sXo3tFJyALUm",
        "colab_type": "code",
        "outputId": "14396d32-9b8c-4889-ffbf-daef1c944c4c",
        "colab": {
          "base_uri": "https://localhost:8080/",
          "height": 265
        }
      },
      "source": [
        "plt.figure()\n",
        "plt.scatter(data_arr[:,0],data_arr[:,1],s=50,c='lightgreen',marker='d',edgecolor='black')\n",
        "plt.scatter(center[0,0],center[0,1],s=80,c='orange',marker='o',edgecolor='black',label='Center 1')\n",
        "plt.scatter(center[1,0],center[1,1],s=80,c='blue',marker='>',edgecolor='black',label='Center 2')\n",
        "plt.scatter(center[2,0],center[2,1],s=80,c='red',marker='*',edgecolor='black',label='Center 3')\n",
        "plt.legend(scatterpoints=1)\n",
        "plt.grid()\n",
        "plt.show()"
      ],
      "execution_count": 0,
      "outputs": [
        {
          "output_type": "display_data",
          "data": {
            "image/png": "[encoded data removed]",
            "text/plain": [
              "<Figure size 432x288 with 1 Axes>"
            ]
          },
          "metadata": {
            "tags": []
          }
        }
      ]
    },
    {
      "cell_type": "code",
      "metadata": {
        "id": "81SYyggLALUo",
        "colab_type": "code",
        "outputId": "416135ea-c7e2-4dd1-f8ce-77003d06dfb0",
        "colab": {
          "base_uri": "https://localhost:8080/",
          "height": 34
        }
      },
      "source": [
        "print(\"Distortion={}\".format(km.inertia_))"
      ],
      "execution_count": 0,
      "outputs": [
        {
          "output_type": "stream",
          "text": [
            "Distortion=15812.123579758858\n"
          ],
          "name": "stdout"
        }
      ]
    },
    {
      "cell_type": "code",
      "metadata": {
        "id": "o8AJqWsPALUq",
        "colab_type": "code",
        "colab": {}
      },
      "source": [
        "from sklearn.cluster import AgglomerativeClustering"
      ],
      "execution_count": 0,
      "outputs": []
    },
    {
      "cell_type": "code",
      "metadata": {
        "id": "7rr5gaWFALUs",
        "colab_type": "code",
        "colab": {}
      },
      "source": [
        "ac=AgglomerativeClustering(n_clusters=3,affinity='euclidean',linkage='complete')"
      ],
      "execution_count": 0,
      "outputs": []
    },
    {
      "cell_type": "code",
      "metadata": {
        "id": "-Zsk6Ce_ALUv",
        "colab_type": "code",
        "colab": {}
      },
      "source": [
        "x_pred=ac.fit_predict(data_arr)"
      ],
      "execution_count": 0,
      "outputs": []
    },
    {
      "cell_type": "code",
      "metadata": {
        "id": "pZ-3QBL9ALUx",
        "colab_type": "code",
        "outputId": "0374c12d-75ff-42d4-ae94-06854a8f301c",
        "colab": {
          "base_uri": "https://localhost:8080/",
          "height": 34
        }
      },
      "source": [
        "x_pred"
      ],
      "execution_count": 0,
      "outputs": [
        {
          "output_type": "execute_result",
          "data": {
            "text/plain": [
              "array([2, 2, 2, ..., 1, 1, 1])"
            ]
          },
          "metadata": {
            "tags": []
          },
          "execution_count": 75
        }
      ]
    },
    {
      "cell_type": "code",
      "metadata": {
        "id": "XJsVhfwuALUz",
        "colab_type": "code",
        "outputId": "bba1ed11-f71b-4060-e2f0-6391a7124657",
        "colab": {
          "base_uri": "https://localhost:8080/",
          "height": 265
        }
      },
      "source": [
        "plt.scatter(data_arr[x_pred==0,0],data_arr[x_pred==0,1],c='red')\n",
        "plt.scatter(data_arr[x_pred==1,0],data_arr[x_pred==1,1],c='green')\n",
        "plt.scatter(data_arr[x_pred==2,0],data_arr[x_pred==2,1],c='yellow')\n",
        "plt.show()"
      ],
      "execution_count": 0,
      "outputs": [
        {
          "output_type": "display_data",
          "data": {
            "image/png": "[encoded data removed]",
            "text/plain": [
              "<Figure size 432x288 with 1 Axes>"
            ]
          },
          "metadata": {
            "tags": []
          }
        }
      ]
    },
    {
      "cell_type": "markdown",
      "metadata": {
        "id": "5D9uJWJS5zSl",
        "colab_type": "text"
      },
      "source": [
        "Regression algorithms"
      ]
    },
    {
      "cell_type": "code",
      "metadata": {
        "id": "JU5rweS_4And",
        "colab_type": "code",
        "outputId": "0652db64-b1f6-44d8-eae5-ee94444cd4fd",
        "colab": {
          "base_uri": "https://localhost:8080/",
          "height": 34
        }
      },
      "source": [
        "data_arr.shape"
      ],
      "execution_count": 0,
      "outputs": [
        {
          "output_type": "execute_result",
          "data": {
            "text/plain": [
              "(35717, 3)"
            ]
          },
          "metadata": {
            "tags": []
          },
          "execution_count": 77
        }
      ]
    },
    {
      "cell_type": "code",
      "metadata": {
        "id": "qVwOsXCJ6FxY",
        "colab_type": "code",
        "colab": {}
      },
      "source": [
        "x=data_arr[:,:2]\n",
        "y=data_arr[:,2]"
      ],
      "execution_count": 0,
      "outputs": []
    },
    {
      "cell_type": "code",
      "metadata": {
        "id": "SVQlgzp46KYR",
        "colab_type": "code",
        "colab": {}
      },
      "source": [
        "from sklearn.linear_model import LinearRegression\n",
        "from sklearn.model_selection import train_test_split"
      ],
      "execution_count": 0,
      "outputs": []
    },
    {
      "cell_type": "code",
      "metadata": {
        "id": "WuDpIXC76QRe",
        "colab_type": "code",
        "colab": {}
      },
      "source": [
        "reg=LinearRegression()"
      ],
      "execution_count": 0,
      "outputs": []
    },
    {
      "cell_type": "code",
      "metadata": {
        "id": "vPG49fF86eB2",
        "colab_type": "code",
        "colab": {}
      },
      "source": [
        "X_train, X_test, y_train, y_test = train_test_split(x, y, test_size=0.33, random_state=0)"
      ],
      "execution_count": 0,
      "outputs": []
    },
    {
      "cell_type": "code",
      "metadata": {
        "id": "TqFwvdiI6ocW",
        "colab_type": "code",
        "outputId": "5d129a2f-e056-432d-e399-1dfdb730317c",
        "colab": {
          "base_uri": "https://localhost:8080/",
          "height": 34
        }
      },
      "source": [
        "reg.fit(X_train,y_train)"
      ],
      "execution_count": 0,
      "outputs": [
        {
          "output_type": "execute_result",
          "data": {
            "text/plain": [
              "LinearRegression(copy_X=True, fit_intercept=True, n_jobs=None, normalize=False)"
            ]
          },
          "metadata": {
            "tags": []
          },
          "execution_count": 82
        }
      ]
    },
    {
      "cell_type": "code",
      "metadata": {
        "id": "7iSURY9K64KA",
        "colab_type": "code",
        "outputId": "d59765cc-e737-4dbe-f188-391f7375dfbe",
        "colab": {
          "base_uri": "https://localhost:8080/",
          "height": 52
        }
      },
      "source": [
        "print(\"Training accuracy = {}\\nTesting Accuracy = {}\".format(reg.score(X_train,y_train),reg.score(X_test,y_test)))"
      ],
      "execution_count": 0,
      "outputs": [
        {
          "output_type": "stream",
          "text": [
            "Training accuracy = 0.6059384953049758\n",
            "Testing Accuracy = 0.6034211165754159\n"
          ],
          "name": "stdout"
        }
      ]
    },
    {
      "cell_type": "markdown",
      "metadata": {
        "id": "LshTQtq573Dt",
        "colab_type": "text"
      },
      "source": [
        "Polynomial Regression"
      ]
    },
    {
      "cell_type": "code",
      "metadata": {
        "id": "YKn9fe1Y7XZ1",
        "colab_type": "code",
        "colab": {}
      },
      "source": [
        "from sklearn.preprocessing import PolynomialFeatures\n",
        "from sklearn.linear_model import LinearRegression"
      ],
      "execution_count": 0,
      "outputs": []
    },
    {
      "cell_type": "code",
      "metadata": {
        "id": "bpKTncxg7bsp",
        "colab_type": "code",
        "colab": {}
      },
      "source": [
        "poly=PolynomialFeatures(degree=3)"
      ],
      "execution_count": 0,
      "outputs": []
    },
    {
      "cell_type": "code",
      "metadata": {
        "id": "3CVuXmvw8qQ1",
        "colab_type": "code",
        "colab": {}
      },
      "source": [
        "x_train_poly=poly.fit_transform(X_train)\n",
        "x_test_poly=poly.fit_transform(X_test)"
      ],
      "execution_count": 0,
      "outputs": []
    },
    {
      "cell_type": "code",
      "metadata": {
        "id": "A1LwF7yv8x_w",
        "colab_type": "code",
        "colab": {}
      },
      "source": [
        "linear=LinearRegression()"
      ],
      "execution_count": 0,
      "outputs": []
    },
    {
      "cell_type": "code",
      "metadata": {
        "id": "lxJ0NZon81hs",
        "colab_type": "code",
        "outputId": "ef856f08-f2d4-46c8-ff43-f4d4d2dacddd",
        "colab": {
          "base_uri": "https://localhost:8080/",
          "height": 34
        }
      },
      "source": [
        "linear.fit(x_train_poly,y_train)"
      ],
      "execution_count": 0,
      "outputs": [
        {
          "output_type": "execute_result",
          "data": {
            "text/plain": [
              "LinearRegression(copy_X=True, fit_intercept=True, n_jobs=None, normalize=False)"
            ]
          },
          "metadata": {
            "tags": []
          },
          "execution_count": 88
        }
      ]
    },
    {
      "cell_type": "code",
      "metadata": {
        "id": "B1s4cCvK87Vu",
        "colab_type": "code",
        "outputId": "c37ec8e4-dd2d-492b-b2e3-915b88fa2199",
        "colab": {
          "base_uri": "https://localhost:8080/",
          "height": 34
        }
      },
      "source": [
        "linear.score(x_train_poly,y_train)"
      ],
      "execution_count": 0,
      "outputs": [
        {
          "output_type": "execute_result",
          "data": {
            "text/plain": [
              "0.6331881662684069"
            ]
          },
          "metadata": {
            "tags": []
          },
          "execution_count": 89
        }
      ]
    },
    {
      "cell_type": "code",
      "metadata": {
        "id": "f-O7QBnj9ADc",
        "colab_type": "code",
        "outputId": "eec3452b-7ba7-483a-f2cd-d237a57055f5",
        "colab": {
          "base_uri": "https://localhost:8080/",
          "height": 52
        }
      },
      "source": [
        "print(\"Training accuracy = {}\\nTesting Accuracy = {}\".format(linear.score(x_train_poly,y_train),linear.score(x_test_poly,y_test)))"
      ],
      "execution_count": 0,
      "outputs": [
        {
          "output_type": "stream",
          "text": [
            "Training accuracy = 0.6331881662684069\n",
            "Testing Accuracy = 0.6324898204809885\n"
          ],
          "name": "stdout"
        }
      ]
    },
    {
      "cell_type": "markdown",
      "metadata": {
        "id": "0N-kRS6D9a8n",
        "colab_type": "text"
      },
      "source": [
        "Random Forest Regression"
      ]
    },
    {
      "cell_type": "code",
      "metadata": {
        "id": "Asfzv9-M9Iy0",
        "colab_type": "code",
        "colab": {}
      },
      "source": [
        "from sklearn.ensemble import RandomForestRegressor\n",
        "from sklearn.metrics import mean_squared_error"
      ],
      "execution_count": 0,
      "outputs": []
    },
    {
      "cell_type": "code",
      "metadata": {
        "id": "8mz65HRQ9h-k",
        "colab_type": "code",
        "colab": {}
      },
      "source": [
        "forest=RandomForestRegressor(n_estimators=1000,criterion='mse',random_state=1,n_jobs=1)"
      ],
      "execution_count": 0,
      "outputs": []
    },
    {
      "cell_type": "code",
      "metadata": {
        "id": "uIe3qHxt9kV2",
        "colab_type": "code",
        "outputId": "56d12271-f6db-4c27-c630-46a0d8e38c6e",
        "colab": {
          "base_uri": "https://localhost:8080/",
          "height": 139
        }
      },
      "source": [
        "forest.fit(X_train,y_train)"
      ],
      "execution_count": 0,
      "outputs": [
        {
          "output_type": "execute_result",
          "data": {
            "text/plain": [
              "RandomForestRegressor(bootstrap=True, ccp_alpha=0.0, criterion='mse',\n",
              "                      max_depth=None, max_features='auto', max_leaf_nodes=None,\n",
              "                      max_samples=None, min_impurity_decrease=0.0,\n",
              "                      min_impurity_split=None, min_samples_leaf=1,\n",
              "                      min_samples_split=2, min_weight_fraction_leaf=0.0,\n",
              "                      n_estimators=1000, n_jobs=1, oob_score=False,\n",
              "                      random_state=1, verbose=0, warm_start=False)"
            ]
          },
          "metadata": {
            "tags": []
          },
          "execution_count": 93
        }
      ]
    },
    {
      "cell_type": "code",
      "metadata": {
        "id": "svvq8f179nT6",
        "colab_type": "code",
        "colab": {}
      },
      "source": [
        "y_train_pred=forest.predict(X_train)\n",
        "y_test_pred=forest.predict(X_test)"
      ],
      "execution_count": 0,
      "outputs": []
    },
    {
      "cell_type": "code",
      "metadata": {
        "id": "216XuUQoU50U",
        "colab_type": "code",
        "outputId": "6e9ba06a-30a4-4213-e379-9b2e24f21aaf",
        "colab": {
          "base_uri": "https://localhost:8080/",
          "height": 52
        }
      },
      "source": [
        "print(\"train mean squread error={}\\ntest mean squared error={}\".format(mean_squared_error(y_train,y_train_pred),mean_squared_error(y_test,y_test_pred)))"
      ],
      "execution_count": 0,
      "outputs": [
        {
          "output_type": "stream",
          "text": [
            "train mean squread error=0.2661396677601386\n",
            "test mean squared error=0.2673312392364412\n"
          ],
          "name": "stdout"
        }
      ]
    },
    {
      "cell_type": "code",
      "metadata": {
        "id": "EtK2-caoU6r2",
        "colab_type": "code",
        "outputId": "ecb4ed0e-cb2d-4cb7-de20-b9283c6d145a",
        "colab": {
          "base_uri": "https://localhost:8080/",
          "height": 34
        }
      },
      "source": [
        "len(set(list(data_arr[:,2])))"
      ],
      "execution_count": 0,
      "outputs": [
        {
          "output_type": "execute_result",
          "data": {
            "text/plain": [
              "3013"
            ]
          },
          "metadata": {
            "tags": []
          },
          "execution_count": 96
        }
      ]
    },
    {
      "cell_type": "code",
      "metadata": {
        "id": "52qdmLwQVlLI",
        "colab_type": "code",
        "colab": {}
      },
      "source": [
        ""
      ],
      "execution_count": 0,
      "outputs": []
    }
  ]
}