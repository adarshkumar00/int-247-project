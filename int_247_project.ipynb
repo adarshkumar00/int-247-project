{
 "cells": [
  {
   "cell_type": "code",
   "execution_count": 5,
   "metadata": {},
   "outputs": [],
   "source": [
    "import pandas as pd\n",
    "import numpy as np\n",
    "from sklearn.model_selection import train_test_split"
   ]
  },
  {
   "cell_type": "code",
   "execution_count": 35,
   "metadata": {},
   "outputs": [
    {
     "name": "stdout",
     "output_type": "stream",
     "text": [
      "['71.8', '6.22', '0.261', '4.49', '327', '0.192', '0.00096', '7.17', '0.00211', '0.000000369', '2.68E-11', '2.04E-11', '4.19E-22', '1.19E-14', '2.28E-22', '1\\n']\n"
     ]
    }
   ],
   "source": [
    "file=open(\"int 247 project data.txt\",\"r\")\n",
    "lines=file.readlines()\n",
    "data=[]\n",
    "for line in lines:\n",
    "    data.append(line.split(\"\\t\"))\n"
   ]
  },
  {
   "cell_type": "code",
   "execution_count": 38,
   "metadata": {},
   "outputs": [
    {
     "name": "stdout",
     "output_type": "stream",
     "text": [
      "16 1399\n",
      "(1399, 16) <class 'numpy.ndarray'> <class 'numpy.ndarray'>\n"
     ]
    }
   ],
   "source": [
    "print(len(data[0]),len(data))\n",
    "data=np.array(data)\n",
    "print(data.shape,type(data),type(data[0]))"
   ]
  },
  {
   "cell_type": "code",
   "execution_count": null,
   "metadata": {},
   "outputs": [],
   "source": []
  }
 ],
 "metadata": {
  "kernelspec": {
   "display_name": "Python 3",
   "language": "python",
   "name": "python3"
  },
  "language_info": {
   "codemirror_mode": {
    "name": "ipython",
    "version": 3
   },
   "file_extension": ".py",
   "mimetype": "text/x-python",
   "name": "python",
   "nbconvert_exporter": "python",
   "pygments_lexer": "ipython3",
   "version": "3.6.9"
  }
 },
 "nbformat": 4,
 "nbformat_minor": 2
}
