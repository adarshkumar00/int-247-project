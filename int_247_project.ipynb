{
 "cells": [
  {
   "cell_type": "code",
   "execution_count": 5,
   "metadata": {},
   "outputs": [],
   "source": [
    "import pandas as pd\n",
    "import numpy as np\n",
    "from sklearn.model_selection import train_test_split"
   ]
  },
  {
   "cell_type": "code",
   "execution_count": 57,
   "metadata": {},
   "outputs": [
    {
     "name": "stdout",
     "output_type": "stream",
     "text": [
      "(1398, 16)\n",
      "[[ 7.12e+01  6.48e+00 -6.07e-01 ...  6.30e-15  5.74e-22  1.00e+00]\n",
      " [ 8.01e+01  2.00e+01 -6.10e-01 ... -3.33e-14  4.95e-21  1.00e+00]\n",
      " [ 5.27e+01  5.38e+00  5.73e-02 ... -2.81e-16 -2.97e-21  1.00e+00]\n",
      " ...\n",
      " [ 9.11e+01  8.79e+00  1.87e+00 ...  7.74e-17  3.34e-24  1.00e+00]\n",
      " [ 9.16e+01  9.72e+00  2.00e+00 ...  4.10e-17  1.38e-24  1.00e+00]\n",
      " [ 9.01e+01  8.16e+00  2.25e+00 ...  9.31e-17  1.27e-24  1.00e+00]]\n",
      "(1398, 16)\n"
     ]
    }
   ],
   "source": [
    "df=pd.read_csv(\"int_247_project_data.csv\")\n",
    "print(df.shape)\n",
    "data=np.array(df)\n",
    "print(data)\n",
    "x=data[:,:-1]\n",
    "y=data[-1]\n",
    "print(data.shape)\n"
   ]
  },
  {
   "cell_type": "code",
   "execution_count": 58,
   "metadata": {},
   "outputs": [
    {
     "name": "stdout",
     "output_type": "stream",
     "text": [
      "16 1398\n",
      "(1398, 16) <class 'numpy.ndarray'> <class 'numpy.float64'>\n"
     ]
    }
   ],
   "source": [
    "print(len(data[0]),len(data))\n",
    "#data=np.array(data)\n",
    "print(data.shape,type(data),type(data[144,7]))"
   ]
  },
  {
   "cell_type": "code",
   "execution_count": 60,
   "metadata": {},
   "outputs": [],
   "source": [
    "for i in range(x.shape[1]):\n",
    "    min_=min(x[:,i])\n",
    "    max_=max(x[:,i])\n",
    "    x[:,i]=(x[:,i]-min_)/(max_-min_)\n",
    "    x[:,i]=(x[:,i]-np.mean(x[:,i]))/np.std(x[:,i])"
   ]
  },
  {
   "cell_type": "code",
   "execution_count": 72,
   "metadata": {},
   "outputs": [
    {
     "name": "stdout",
     "output_type": "stream",
     "text": [
      "False\n",
      "False\n",
      "[-2.54128303e-16  8.13210570e-17 -4.06605285e-16 -1.21981586e-16\n",
      " -1.01651321e-17  2.03302643e-17 -5.08256606e-18 -4.11687851e-16\n",
      "  2.03302643e-17  0.00000000e+00  0.00000000e+00  2.28715473e-17\n",
      " -1.91866869e-16 -2.05843926e-16 -1.87292559e-15]\n",
      "[1. 1. 1. 1. 1. 1. 1. 1. 1. 1. 1. 1. 1. 1. 1.]\n"
     ]
    }
   ],
   "source": [
    "print(any(np.mean(x,axis=0)>0.00001))\n",
    "print(any(np.std(x,axis=0)>1))\n",
    "#print(np.mean(x,axis=0))\n",
    "#print(np.std(x,axis=0))"
   ]
  },
  {
   "cell_type": "code",
   "execution_count": null,
   "metadata": {},
   "outputs": [],
   "source": []
  }
 ],
 "metadata": {
  "kernelspec": {
   "display_name": "Python 3",
   "language": "python",
   "name": "python3"
  },
  "language_info": {
   "codemirror_mode": {
    "name": "ipython",
    "version": 3
   },
   "file_extension": ".py",
   "mimetype": "text/x-python",
   "name": "python",
   "nbconvert_exporter": "python",
   "pygments_lexer": "ipython3",
   "version": "3.6.9"
  }
 },
 "nbformat": 4,
 "nbformat_minor": 2
}
