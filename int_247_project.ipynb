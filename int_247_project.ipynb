{
 "cells": [
  {
   "cell_type": "code",
   "execution_count": 152,
   "metadata": {},
   "outputs": [],
   "source": [
    "import pandas as pd\n",
    "import numpy as np\n",
    "from sklearn.model_selection import train_test_split\n",
    "from sklearn.metrics import accuracy_score,confusion_matrix,classification_report\n",
    "from sklearn.linear_model import LogisticRegression,LinearRegression\n",
    "from sklearn.neighbors import KNeighborsClassifier\n",
    "import seaborn as sns\n",
    "import matplotlib.pyplot as plt\n",
    "from sklearn.naive_bayes import GaussianNB"
   ]
  },
  {
   "cell_type": "code",
   "execution_count": 156,
   "metadata": {},
   "outputs": [
    {
     "name": "stdout",
     "output_type": "stream",
     "text": [
      "(1398, 16)\n",
      "(1398, 16) (1398, 15) (1398,)\n"
     ]
    }
   ],
   "source": [
    "df=pd.read_csv(\"oral_and _oropharyngeal_cancer_dataset.csv\")\n",
    "print(df.shape)\n",
    "data=np.array(df)\n",
    "#print(data)\n",
    "x=data[:,:-1]\n",
    "y=data[:,-1]\n",
    "print(data.shape,x.shape,y.shape)\n"
   ]
  },
  {
   "cell_type": "code",
   "execution_count": 157,
   "metadata": {},
   "outputs": [],
   "source": [
    "epsilon=0.0000001\n",
    "for i in range(x.shape[1]):\n",
    "    min_=min(x[:,i])\n",
    "    max_=max(x[:,i])\n",
    "    x[:,i]=(x[:,i]-min_)/(max_-min_+epsilon)\n",
    "    x[:,i]=(x[:,i]-np.mean(x[:,i]))/(np.std(x[:,i]+epsilon))"
   ]
  },
  {
   "cell_type": "code",
   "execution_count": 158,
   "metadata": {},
   "outputs": [
    {
     "name": "stdout",
     "output_type": "stream",
     "text": [
      "False\n",
      "False\n"
     ]
    }
   ],
   "source": [
    "print(any(np.mean(x,axis=0)>0.00001))\n",
    "print(any(np.std(x,axis=0)>1))\n",
    "#print(np.mean(x,axis=0))\n",
    "#print(np.std(x,axis=0))"
   ]
  },
  {
   "cell_type": "code",
   "execution_count": 159,
   "metadata": {},
   "outputs": [
    {
     "data": {
      "image/png": "[encoded data removed]",
      "text/plain": [
       "<Figure size 432x288 with 2 Axes>"
      ]
     },
     "metadata": {
      "needs_background": "light"
     },
     "output_type": "display_data"
    }
   ],
   "source": [
    "heatmap_df=pd.DataFrame(x[:,:6])\n",
    "cm=np.corrcoef(heatmap_df.values.T)\n",
    "sns.heatmap(cm,annot=True)\n",
    "plt.show()"
   ]
  },
  {
   "cell_type": "code",
   "execution_count": 193,
   "metadata": {},
   "outputs": [
    {
     "name": "stdout",
     "output_type": "stream",
     "text": [
      "(1118, 15) (1118,) (280, 15) (280,)\n"
     ]
    }
   ],
   "source": [
    "xtrain,xtest,ytrain,ytest=train_test_split(x,y,test_size=.20)\n",
    "print(xtrain.shape,ytrain.shape,xtest.shape,ytest.shape)"
   ]
  },
  {
   "cell_type": "code",
   "execution_count": 194,
   "metadata": {},
   "outputs": [
    {
     "data": {
      "text/plain": [
       "'print(ytrain)\\nfor i in range(xtrain.shape[1]):\\n    print(x[:,i].dtype)\\n    if any(xtrain[:,i]==np.nan):\\n        print(\"true\")\\n    if any(xtrain[:,i]==np.inf):\\n        print(\"true\")'"
      ]
     },
     "execution_count": 194,
     "metadata": {},
     "output_type": "execute_result"
    }
   ],
   "source": [
    "'''print(ytrain)\n",
    "for i in range(xtrain.shape[1]):\n",
    "    print(x[:,i].dtype)\n",
    "    if any(xtrain[:,i]==np.nan):\n",
    "        print(\"true\")\n",
    "    if any(xtrain[:,i]==np.inf):\n",
    "        print(\"true\")'''"
   ]
  },
  {
   "cell_type": "code",
   "execution_count": 228,
   "metadata": {},
   "outputs": [
    {
     "name": "stdout",
     "output_type": "stream",
     "text": [
      "Accuracy Score : 0.81\n",
      "\n",
      "Confusion Matrix \n",
      " [[218  44]\n",
      " [  8  10]]\n",
      "\n",
      "classification report \n",
      "               precision    recall  f1-score   support\n",
      "\n",
      "         0.0       0.96      0.83      0.89       262\n",
      "         1.0       0.19      0.56      0.28        18\n",
      "\n",
      "    accuracy                           0.81       280\n",
      "   macro avg       0.57      0.69      0.59       280\n",
      "weighted avg       0.91      0.81      0.85       280\n",
      "\n"
     ]
    }
   ],
   "source": [
    "lr=LogisticRegression(penalty='l2',solver='lbfgs')\n",
    "lr.fit(xtrain,ytrain)\n",
    "pred=lr.predict(xtest)\n",
    "lr_acc=accuracy_score(pred,ytest)\n",
    "print(\"Accuracy Score : %.2f\"%lr_acc)\n",
    "print(\"\\nConfusion Matrix \\n\",confusion_matrix(pred,ytest))\n",
    "print(\"\\nclassification report \\n\",classification_report(pred,ytest))"
   ]
  },
  {
   "cell_type": "code",
   "execution_count": 229,
   "metadata": {},
   "outputs": [
    {
     "name": "stdout",
     "output_type": "stream",
     "text": [
      "Accuracy Score : 0.94\n",
      "\n",
      "Confusion Matrix \n",
      " [[218  10]\n",
      " [  8  44]]\n",
      "\n",
      "classification report \n",
      "               precision    recall  f1-score   support\n",
      "\n",
      "         0.0       0.96      0.96      0.96       228\n",
      "         1.0       0.81      0.85      0.83        52\n",
      "\n",
      "    accuracy                           0.94       280\n",
      "   macro avg       0.89      0.90      0.90       280\n",
      "weighted avg       0.94      0.94      0.94       280\n",
      "\n"
     ]
    }
   ],
   "source": [
    "classifier = KNeighborsClassifier(n_neighbors=5)\n",
    "classifier.fit(xtrain, ytrain)\n",
    "pred = classifier.predict(xtest)\n",
    "knn_acc=accuracy_score(pred,ytest)\n",
    "print(\"Accuracy Score : %.2f\"%knn_acc)\n",
    "print(\"\\nConfusion Matrix \\n\",confusion_matrix(pred,ytest))\n",
    "print(\"\\nclassification report \\n\",classification_report(pred,ytest))"
   ]
  },
  {
   "cell_type": "code",
   "execution_count": 231,
   "metadata": {},
   "outputs": [
    {
     "name": "stdout",
     "output_type": "stream",
     "text": [
      "Accuracy Score : 0.23\n",
      "\n",
      "Confusion Matrix \n",
      " [[ 12   1]\n",
      " [214  53]]\n",
      "\n",
      "classification report \n",
      "               precision    recall  f1-score   support\n",
      "\n",
      "         0.0       0.05      0.92      0.10        13\n",
      "         1.0       0.98      0.20      0.33       267\n",
      "\n",
      "    accuracy                           0.23       280\n",
      "   macro avg       0.52      0.56      0.22       280\n",
      "weighted avg       0.94      0.23      0.32       280\n",
      "\n"
     ]
    }
   ],
   "source": [
    "classifier = GaussianNB()\n",
    "classifier.fit(xtrain,ytrain)\n",
    "ypred=classifier.predict(xtest)\n",
    "gnb_acc=accuracy_score(ypred,ytest)\n",
    "print(\"Accuracy Score : %.2f\"%gnb_acc)\n",
    "print(\"\\nConfusion Matrix \\n\",confusion_matrix(ypred,ytest))\n",
    "print(\"\\nclassification report \\n\",classification_report(ypred,ytest))"
   ]
  },
  {
   "cell_type": "code",
   "execution_count": 221,
   "metadata": {},
   "outputs": [],
   "source": [
    "from keras.models import Sequential\n",
    "from keras.layers import Dense , BatchNormalization , Dropout\n",
    "import keras.backend as k\n",
    "import tensorflow as tf\n",
    "from keras import losses, optimizers, regularizers\n",
    "from keras.utils import to_categorical"
   ]
  },
  {
   "cell_type": "code",
   "execution_count": 205,
   "metadata": {},
   "outputs": [],
   "source": [
    "y_train=to_categorical(ytrain)"
   ]
  },
  {
   "cell_type": "code",
   "execution_count": 255,
   "metadata": {},
   "outputs": [
    {
     "name": "stdout",
     "output_type": "stream",
     "text": [
      "Epoch 1/70\n",
      "1118/1118 [==============================] - 5s 4ms/step - loss: 1.3715 - acc: 0.5778\n",
      "Epoch 2/70\n",
      "1118/1118 [==============================] - 0s 173us/step - loss: 1.1917 - acc: 0.7182\n",
      "Epoch 3/70\n",
      "1118/1118 [==============================] - 0s 169us/step - loss: 1.0742 - acc: 0.7961\n",
      "Epoch 4/70\n",
      "1118/1118 [==============================] - 0s 172us/step - loss: 0.9832 - acc: 0.8265\n",
      "Epoch 5/70\n",
      "1118/1118 [==============================] - 0s 164us/step - loss: 0.9143 - acc: 0.8462\n",
      "Epoch 6/70\n",
      "1118/1118 [==============================] - 0s 170us/step - loss: 0.8419 - acc: 0.8703\n",
      "Epoch 7/70\n",
      "1118/1118 [==============================] - 0s 167us/step - loss: 0.7792 - acc: 0.8757\n",
      "Epoch 8/70\n",
      "1118/1118 [==============================] - 0s 172us/step - loss: 0.7353 - acc: 0.8864\n",
      "Epoch 9/70\n",
      "1118/1118 [==============================] - 0s 164us/step - loss: 0.6846 - acc: 0.9016\n",
      "Epoch 10/70\n",
      "1118/1118 [==============================] - 0s 177us/step - loss: 0.6434 - acc: 0.9061\n",
      "Epoch 11/70\n",
      "1118/1118 [==============================] - 0s 175us/step - loss: 0.6273 - acc: 0.9025\n",
      "Epoch 12/70\n",
      "1118/1118 [==============================] - 0s 233us/step - loss: 0.5524 - acc: 0.9374\n",
      "Epoch 13/70\n",
      "1118/1118 [==============================] - 0s 196us/step - loss: 0.5414 - acc: 0.9177\n",
      "Epoch 14/70\n",
      "1118/1118 [==============================] - 0s 172us/step - loss: 0.5091 - acc: 0.9302\n",
      "Epoch 15/70\n",
      "1118/1118 [==============================] - 0s 177us/step - loss: 0.5354 - acc: 0.9070\n",
      "Epoch 16/70\n",
      "1118/1118 [==============================] - 0s 179us/step - loss: 0.4780 - acc: 0.9329\n",
      "Epoch 17/70\n",
      "1118/1118 [==============================] - 0s 185us/step - loss: 0.4711 - acc: 0.9267\n",
      "Epoch 18/70\n",
      "1118/1118 [==============================] - 0s 179us/step - loss: 0.4543 - acc: 0.9302\n",
      "Epoch 19/70\n",
      "1118/1118 [==============================] - 0s 182us/step - loss: 0.4436 - acc: 0.9293\n",
      "Epoch 20/70\n",
      "1118/1118 [==============================] - 0s 190us/step - loss: 0.4421 - acc: 0.9258\n",
      "Epoch 21/70\n",
      "1118/1118 [==============================] - 0s 214us/step - loss: 0.4286 - acc: 0.9347\n",
      "Epoch 22/70\n",
      "1118/1118 [==============================] - 0s 201us/step - loss: 0.4164 - acc: 0.9374\n",
      "Epoch 23/70\n",
      "1118/1118 [==============================] - 0s 177us/step - loss: 0.4061 - acc: 0.9338\n",
      "Epoch 24/70\n",
      "1118/1118 [==============================] - 0s 175us/step - loss: 0.3939 - acc: 0.9347\n",
      "Epoch 25/70\n",
      "1118/1118 [==============================] - 0s 185us/step - loss: 0.3761 - acc: 0.9436\n",
      "Epoch 26/70\n",
      "1118/1118 [==============================] - 0s 181us/step - loss: 0.3761 - acc: 0.9428\n",
      "Epoch 27/70\n",
      "1118/1118 [==============================] - 0s 232us/step - loss: 0.3867 - acc: 0.9338\n",
      "Epoch 28/70\n",
      "1118/1118 [==============================] - 0s 224us/step - loss: 0.3431 - acc: 0.9517\n",
      "Epoch 29/70\n",
      "1118/1118 [==============================] - 0s 211us/step - loss: 0.3345 - acc: 0.9526\n",
      "Epoch 30/70\n",
      "1118/1118 [==============================] - 0s 218us/step - loss: 0.3373 - acc: 0.9436\n",
      "Epoch 31/70\n",
      "1118/1118 [==============================] - 0s 213us/step - loss: 0.3405 - acc: 0.9410\n",
      "Epoch 32/70\n",
      "1118/1118 [==============================] - 0s 186us/step - loss: 0.3625 - acc: 0.9311\n",
      "Epoch 33/70\n",
      "1118/1118 [==============================] - 0s 233us/step - loss: 0.3302 - acc: 0.9338\n",
      "Epoch 34/70\n",
      "1118/1118 [==============================] - 0s 207us/step - loss: 0.3128 - acc: 0.9472\n",
      "Epoch 35/70\n",
      "1118/1118 [==============================] - 0s 213us/step - loss: 0.2887 - acc: 0.9553\n",
      "Epoch 36/70\n",
      "1118/1118 [==============================] - 0s 197us/step - loss: 0.2881 - acc: 0.9553\n",
      "Epoch 37/70\n",
      "1118/1118 [==============================] - 0s 180us/step - loss: 0.2780 - acc: 0.9624\n",
      "Epoch 38/70\n",
      "1118/1118 [==============================] - 0s 238us/step - loss: 0.2963 - acc: 0.9517\n",
      "Epoch 39/70\n",
      "1118/1118 [==============================] - 0s 224us/step - loss: 0.3072 - acc: 0.9401\n",
      "Epoch 40/70\n",
      "1118/1118 [==============================] - 0s 178us/step - loss: 0.2882 - acc: 0.9481\n",
      "Epoch 41/70\n",
      "1118/1118 [==============================] - 0s 180us/step - loss: 0.2678 - acc: 0.9544\n",
      "Epoch 42/70\n",
      "1118/1118 [==============================] - 0s 178us/step - loss: 0.2849 - acc: 0.9463\n",
      "Epoch 43/70\n",
      "1118/1118 [==============================] - 0s 189us/step - loss: 0.2471 - acc: 0.9651\n",
      "Epoch 44/70\n",
      "1118/1118 [==============================] - 0s 225us/step - loss: 0.2754 - acc: 0.9544\n",
      "Epoch 45/70\n",
      "1118/1118 [==============================] - 0s 238us/step - loss: 0.2844 - acc: 0.9428\n",
      "Epoch 46/70\n",
      "1118/1118 [==============================] - 0s 218us/step - loss: 0.2721 - acc: 0.9499\n",
      "Epoch 47/70\n",
      "1118/1118 [==============================] - 0s 192us/step - loss: 0.2453 - acc: 0.9589\n",
      "Epoch 48/70\n",
      "1118/1118 [==============================] - 0s 204us/step - loss: 0.2512 - acc: 0.9562\n",
      "Epoch 49/70\n",
      "1118/1118 [==============================] - 0s 216us/step - loss: 0.2285 - acc: 0.9606\n",
      "Epoch 50/70\n",
      "1118/1118 [==============================] - 0s 209us/step - loss: 0.2192 - acc: 0.9678\n",
      "Epoch 51/70\n",
      "1118/1118 [==============================] - 0s 223us/step - loss: 0.2318 - acc: 0.9615\n",
      "Epoch 52/70\n",
      "1118/1118 [==============================] - 0s 202us/step - loss: 0.2575 - acc: 0.9472\n",
      "Epoch 53/70\n",
      "1118/1118 [==============================] - 0s 185us/step - loss: 0.2203 - acc: 0.9651\n",
      "Epoch 54/70\n",
      "1118/1118 [==============================] - 0s 183us/step - loss: 0.2355 - acc: 0.9571\n",
      "Epoch 55/70\n",
      "1118/1118 [==============================] - 0s 170us/step - loss: 0.1939 - acc: 0.9776\n",
      "Epoch 56/70\n",
      "1118/1118 [==============================] - 0s 165us/step - loss: 0.2208 - acc: 0.9571\n",
      "Epoch 57/70\n",
      "1118/1118 [==============================] - 0s 199us/step - loss: 0.2145 - acc: 0.9589\n",
      "Epoch 58/70\n",
      "1118/1118 [==============================] - 0s 203us/step - loss: 0.2194 - acc: 0.9580\n",
      "Epoch 59/70\n",
      "1118/1118 [==============================] - 0s 203us/step - loss: 0.2197 - acc: 0.9615\n",
      "Epoch 60/70\n",
      "1118/1118 [==============================] - 0s 197us/step - loss: 0.2075 - acc: 0.9615\n",
      "Epoch 61/70\n",
      "1118/1118 [==============================] - 0s 203us/step - loss: 0.2172 - acc: 0.9624\n",
      "Epoch 62/70\n",
      "1118/1118 [==============================] - 0s 189us/step - loss: 0.2115 - acc: 0.9651\n",
      "Epoch 63/70\n",
      "1118/1118 [==============================] - 0s 197us/step - loss: 0.2134 - acc: 0.9642\n",
      "Epoch 64/70\n",
      "1118/1118 [==============================] - 0s 175us/step - loss: 0.2379 - acc: 0.9508\n",
      "Epoch 65/70\n",
      "1118/1118 [==============================] - 0s 169us/step - loss: 0.1948 - acc: 0.9624\n",
      "Epoch 66/70\n",
      "1118/1118 [==============================] - 0s 198us/step - loss: 0.1872 - acc: 0.9687\n",
      "Epoch 67/70\n",
      "1118/1118 [==============================] - 0s 187us/step - loss: 0.2040 - acc: 0.9535\n",
      "Epoch 68/70\n",
      "1118/1118 [==============================] - 0s 186us/step - loss: 0.2243 - acc: 0.9597\n",
      "Epoch 69/70\n",
      "1118/1118 [==============================] - 0s 190us/step - loss: 0.2039 - acc: 0.9669\n",
      "Epoch 70/70\n",
      "1118/1118 [==============================] - 0s 182us/step - loss: 0.1708 - acc: 0.9776\n"
     ]
    }
   ],
   "source": [
    "model = Sequential()\n",
    "model.add(Dense(64,activation='relu',kernel_regularizer='l2'))\n",
    "model.add(BatchNormalization())\n",
    "model.add(Dense(32,activation='relu',kernel_regularizer='l2'))\n",
    "model.add(BatchNormalization())\n",
    "model.add(Dense(16,activation='relu'))\n",
    "model.add(BatchNormalization())\n",
    "model.add(Dense(16,activation='relu'))\n",
    "model.add(Dense(8,activation='relu'))\n",
    "model.add(BatchNormalization())\n",
    "model.add(Dense(2,activation= \"softmax\"))\n",
    "model.compile(loss='categorical_crossentropy' , optimizer = \"adam\" , metrics = [\"accuracy\"])\n",
    "history = model.fit(xtrain,y_train , epochs =70 , batch_size=32)"
   ]
  },
  {
   "cell_type": "code",
   "execution_count": 256,
   "metadata": {},
   "outputs": [
    {
     "name": "stdout",
     "output_type": "stream",
     "text": [
      "0.95\n"
     ]
    },
    {
     "data": {
      "text/plain": [
       "[<matplotlib.lines.Line2D at 0x7fc32e97e400>]"
      ]
     },
     "execution_count": 256,
     "metadata": {},
     "output_type": "execute_result"
    },
    {
     "data": {
      "image/png": "[encoded data removed]",
      "text/plain": [
       "<Figure size 432x288 with 1 Axes>"
      ]
     },
     "metadata": {
      "needs_background": "light"
     },
     "output_type": "display_data"
    }
   ],
   "source": [
    "ypred=np.argmax(model.predict(xtest) , axis =1)\n",
    "mlp_acc=accuracy_score(ypred,ytest)\n",
    "print(\"%.2f\"%mlp_acc)\n",
    "plt.plot(history.history['loss'])\n"
   ]
  },
  {
   "cell_type": "code",
   "execution_count": 257,
   "metadata": {},
   "outputs": [
    {
     "data": {
      "image/png": "[encoded data removed]",
      "text/plain": [
       "<Figure size 432x288 with 1 Axes>"
      ]
     },
     "metadata": {
      "needs_background": "light"
     },
     "output_type": "display_data"
    }
   ],
   "source": [
    "y_axis=[mlp_acc,knn_acc,lr_acc,gnb_acc]\n",
    "x_axis=np.arange(len(y_axis))+1\n",
    "x_lables=[\"mlp accuracy\",\"knn accuracy\", \" lr accuracy\" , \"nb accuracy\"]\n",
    "plt.bar(x_axis,y_axis,align=\"center\",color=\"red\")\n",
    "plt.xticks(x_axis,x_lables)\n",
    "plt.show()"
   ]
  },
  {
   "cell_type": "code",
   "execution_count": null,
   "metadata": {},
   "outputs": [],
   "source": []
  }
 ],
 "metadata": {
  "kernelspec": {
   "display_name": "Python 3",
   "language": "python",
   "name": "python3"
  },
  "language_info": {
   "codemirror_mode": {
    "name": "ipython",
    "version": 3
   },
   "file_extension": ".py",
   "mimetype": "text/x-python",
   "name": "python",
   "nbconvert_exporter": "python",
   "pygments_lexer": "ipython3",
   "version": "3.6.9"
  }
 },
 "nbformat": 4,
 "nbformat_minor": 2
}
