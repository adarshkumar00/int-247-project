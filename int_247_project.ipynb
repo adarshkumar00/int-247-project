{
 "cells": [
  {
   "cell_type": "code",
   "execution_count": 200,
   "metadata": {},
   "outputs": [],
   "source": [
    "import pandas as pd\n",
    "import numpy as np\n",
    "from sklearn.model_selection import train_test_split\n",
    "from sklearn.metrics import accuracy_score,confusion_matrix,classification_report\n",
    "from sklearn.linear_model import LogisticRegression,LinearRegression\n",
    "from sklearn.neighbors import KNeighborsClassifier\n",
    "import seaborn as sns\n",
    "import matplotlib.pyplot as plt"
   ]
  },
  {
   "cell_type": "code",
   "execution_count": 188,
   "metadata": {},
   "outputs": [
    {
     "name": "stdout",
     "output_type": "stream",
     "text": [
      "(1398, 16)\n",
      "(1398, 16) (1398, 15) (1398,)\n"
     ]
    }
   ],
   "source": [
    "df=pd.read_csv(\"oral_and _oropharyngeal_cancer_dataset.csv\")\n",
    "print(df.shape)\n",
    "data=np.array(df)\n",
    "#print(data)\n",
    "x=data[:,:-1]\n",
    "y=data[:,-1]\n",
    "print(data.shape,x.shape,y.shape)\n"
   ]
  },
  {
   "cell_type": "code",
   "execution_count": 189,
   "metadata": {},
   "outputs": [],
   "source": [
    "epsilon=0.0000001\n",
    "for i in range(x.shape[1]):\n",
    "    min_=min(x[:,i])\n",
    "    max_=max(x[:,i])\n",
    "    x[:,i]=(x[:,i]-min_)/(max_-min_+epsilon)\n",
    "    x[:,i]=(x[:,i]-np.mean(x[:,i]))/(np.std(x[:,i]+epsilon))"
   ]
  },
  {
   "cell_type": "code",
   "execution_count": 190,
   "metadata": {},
   "outputs": [
    {
     "name": "stdout",
     "output_type": "stream",
     "text": [
      "False\n",
      "False\n"
     ]
    }
   ],
   "source": [
    "print(any(np.mean(x,axis=0)>0.00001))\n",
    "print(any(np.std(x,axis=0)>1))\n",
    "#print(np.mean(x,axis=0))\n",
    "#print(np.std(x,axis=0))"
   ]
  },
  {
   "cell_type": "code",
   "execution_count": 191,
   "metadata": {},
   "outputs": [
    {
     "data": {
      "image/png": "[encoded data removed]",
      "text/plain": [
       "<Figure size 432x288 with 2 Axes>"
      ]
     },
     "metadata": {
      "needs_background": "light"
     },
     "output_type": "display_data"
    }
   ],
   "source": [
    "heatmap_df=pd.DataFrame(x[:,:6])\n",
    "cm=np.corrcoef(heatmap_df.values.T)\n",
    "sns.heatmap(cm,annot=True)\n",
    "plt.show()"
   ]
  },
  {
   "cell_type": "code",
   "execution_count": 192,
   "metadata": {},
   "outputs": [
    {
     "name": "stdout",
     "output_type": "stream",
     "text": [
      "(978, 15) (978,) (420, 15) (420,)\n"
     ]
    }
   ],
   "source": [
    "xtrain,xtest,ytrain,ytest=train_test_split(x,y,test_size=.30)\n",
    "print(xtrain.shape,ytrain.shape,xtest.shape,ytest.shape)"
   ]
  },
  {
   "cell_type": "code",
   "execution_count": 193,
   "metadata": {},
   "outputs": [
    {
     "data": {
      "text/plain": [
       "'print(ytrain)\\nfor i in range(xtrain.shape[1]):\\n    print(x[:,i].dtype)\\n    if any(xtrain[:,i]==np.nan):\\n        print(\"true\")\\n    if any(xtrain[:,i]==np.inf):\\n        print(\"true\")'"
      ]
     },
     "execution_count": 193,
     "metadata": {},
     "output_type": "execute_result"
    }
   ],
   "source": [
    "'''print(ytrain)\n",
    "for i in range(xtrain.shape[1]):\n",
    "    print(x[:,i].dtype)\n",
    "    if any(xtrain[:,i]==np.nan):\n",
    "        print(\"true\")\n",
    "    if any(xtrain[:,i]==np.inf):\n",
    "        print(\"true\")'''"
   ]
  },
  {
   "cell_type": "code",
   "execution_count": 203,
   "metadata": {},
   "outputs": [
    {
     "name": "stdout",
     "output_type": "stream",
     "text": [
      "Accuracy Score : 0.82\n",
      "\n",
      "Confusion Matrix \n",
      " [[326  66]\n",
      " [  9  19]]\n",
      "\n",
      "classification report \n",
      "               precision    recall  f1-score   support\n",
      "\n",
      "         0.0       0.97      0.83      0.90       392\n",
      "         1.0       0.22      0.68      0.34        28\n",
      "\n",
      "    accuracy                           0.82       420\n",
      "   macro avg       0.60      0.76      0.62       420\n",
      "weighted avg       0.92      0.82      0.86       420\n",
      "\n"
     ]
    }
   ],
   "source": [
    "lr=LogisticRegression(penalty='l2',solver='lbfgs')\n",
    "lr.fit(xtrain,ytrain)\n",
    "pred=lr.predict(xtest)\n",
    "print(\"Accuracy Score : %.2f\"%accuracy_score(pred,ytest))\n",
    "print(\"\\nConfusion Matrix \\n\",confusion_matrix(pred,ytest))\n",
    "print(\"\\nclassification report \\n\",classification_report(pred,ytest))"
   ]
  },
  {
   "cell_type": "code",
   "execution_count": 204,
   "metadata": {},
   "outputs": [
    {
     "name": "stdout",
     "output_type": "stream",
     "text": [
      "Accuracy Score : 0.92\n",
      "\n",
      "Confusion Matrix \n",
      " [[328  26]\n",
      " [  7  59]]\n",
      "\n",
      "classification report \n",
      "               precision    recall  f1-score   support\n",
      "\n",
      "         0.0       0.98      0.93      0.95       354\n",
      "         1.0       0.69      0.89      0.78        66\n",
      "\n",
      "    accuracy                           0.92       420\n",
      "   macro avg       0.84      0.91      0.87       420\n",
      "weighted avg       0.93      0.92      0.93       420\n",
      "\n"
     ]
    }
   ],
   "source": [
    "classifier = KNeighborsClassifier(n_neighbors=5)\n",
    "classifier.fit(xtrain, ytrain)\n",
    "pred = classifier.predict(xtest)\n",
    "print(\"Accuracy Score : %.2f\"%accuracy_score(pred,ytest))\n",
    "print(\"\\nConfusion Matrix \\n\",confusion_matrix(pred,ytest))\n",
    "print(\"\\nclassification report \\n\",classification_report(pred,ytest))"
   ]
  },
  {
   "cell_type": "code",
   "execution_count": 211,
   "metadata": {},
   "outputs": [],
   "source": [
    "from keras.models import Sequential\n",
    "from keras.layers import Dense\n",
    "import keras.backend as k\n",
    "import tensorflow as tf"
   ]
  },
  {
   "cell_type": "code",
   "execution_count": 283,
   "metadata": {},
   "outputs": [],
   "source": []
  },
  {
   "cell_type": "code",
   "execution_count": 287,
   "metadata": {},
   "outputs": [],
   "source": [
    "lin_reg=Sequential()\n",
    "lin_reg.add(Dense(1,activation='sigmoid'))"
   ]
  },
  {
   "cell_type": "code",
   "execution_count": 288,
   "metadata": {},
   "outputs": [],
   "source": [
    "lin_reg.compile(loss='mse',optimizer=\"sgd\",metrics=['accuracy'])"
   ]
  },
  {
   "cell_type": "code",
   "execution_count": 289,
   "metadata": {},
   "outputs": [
    {
     "name": "stdout",
     "output_type": "stream",
     "text": [
      "Epoch 1/20\n",
      "978/978 [==============================] - 0s 207us/step - loss: 0.2749 - acc: 0.5000\n",
      "Epoch 2/20\n",
      "978/978 [==============================] - 0s 26us/step - loss: 0.2703 - acc: 0.5164\n",
      "Epoch 3/20\n",
      "978/978 [==============================] - 0s 30us/step - loss: 0.2660 - acc: 0.5266\n",
      "Epoch 4/20\n",
      "978/978 [==============================] - 0s 26us/step - loss: 0.2617 - acc: 0.5358\n",
      "Epoch 5/20\n",
      "978/978 [==============================] - 0s 26us/step - loss: 0.2574 - acc: 0.5481\n",
      "Epoch 6/20\n",
      "978/978 [==============================] - 0s 29us/step - loss: 0.2533 - acc: 0.5593\n",
      "Epoch 7/20\n",
      "978/978 [==============================] - 0s 25us/step - loss: 0.2493 - acc: 0.5757\n",
      "Epoch 8/20\n",
      "978/978 [==============================] - 0s 24us/step - loss: 0.2456 - acc: 0.5869\n",
      "Epoch 9/20\n",
      "978/978 [==============================] - 0s 27us/step - loss: 0.2418 - acc: 0.6022\n",
      "Epoch 10/20\n",
      "978/978 [==============================] - 0s 23us/step - loss: 0.2382 - acc: 0.6084\n",
      "Epoch 11/20\n",
      "978/978 [==============================] - 0s 27us/step - loss: 0.2348 - acc: 0.6217\n",
      "Epoch 12/20\n",
      "978/978 [==============================] - 0s 25us/step - loss: 0.2314 - acc: 0.6309\n",
      "Epoch 13/20\n",
      "978/978 [==============================] - 0s 29us/step - loss: 0.2282 - acc: 0.6370\n",
      "Epoch 14/20\n",
      "978/978 [==============================] - 0s 27us/step - loss: 0.2250 - acc: 0.6431\n",
      "Epoch 15/20\n",
      "978/978 [==============================] - 0s 23us/step - loss: 0.2220 - acc: 0.6534\n",
      "Epoch 16/20\n",
      "978/978 [==============================] - 0s 25us/step - loss: 0.2192 - acc: 0.6636\n",
      "Epoch 17/20\n",
      "978/978 [==============================] - 0s 22us/step - loss: 0.2164 - acc: 0.6697\n",
      "Epoch 18/20\n",
      "978/978 [==============================] - 0s 30us/step - loss: 0.2138 - acc: 0.6759\n",
      "Epoch 19/20\n",
      "978/978 [==============================] - 0s 26us/step - loss: 0.2113 - acc: 0.6820\n",
      "Epoch 20/20\n",
      "978/978 [==============================] - 0s 26us/step - loss: 0.2089 - acc: 0.6840\n"
     ]
    },
    {
     "data": {
      "text/plain": [
       "<keras.callbacks.History at 0x7f5d16436cc0>"
      ]
     },
     "execution_count": 289,
     "metadata": {},
     "output_type": "execute_result"
    }
   ],
   "source": [
    "lin_reg.fit(xtrain,ytrain,epochs=20,batch_size=64)"
   ]
  },
  {
   "cell_type": "code",
   "execution_count": null,
   "metadata": {},
   "outputs": [],
   "source": []
  }
 ],
 "metadata": {
  "kernelspec": {
   "display_name": "Python 3",
   "language": "python",
   "name": "python3"
  },
  "language_info": {
   "codemirror_mode": {
    "name": "ipython",
    "version": 3
   },
   "file_extension": ".py",
   "mimetype": "text/x-python",
   "name": "python",
   "nbconvert_exporter": "python",
   "pygments_lexer": "ipython3",
   "version": "3.6.9"
  }
 },
 "nbformat": 4,
 "nbformat_minor": 2
}
