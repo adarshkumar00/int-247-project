{
 "cells": [
  {
   "cell_type": "code",
   "execution_count": null,
   "metadata": {},
   "outputs": [],
   "source": [
    "#dataset link = https://github.com/smg478/OralCancerDetectionOnCTImages/blob/master/ANN%20file/train_data.txt\n",
    "#github link= https://github.com/adarshkumar00/int-247-project"
   ]
  },
  {
   "cell_type": "code",
   "execution_count": 1,
   "metadata": {},
   "outputs": [],
   "source": [
    "import pandas as pd #used to read the csv file\n",
    "import numpy as np # used to do all the mathematical calculations\n",
    "from sklearn.model_selection import train_test_split #to split the train and test data \n",
    "from sklearn.metrics import accuracy_score,confusion_matrix,classification_report #to show the performance of model\n",
    "from sklearn.linear_model import LogisticRegression\n",
    "from sklearn.neighbors import KNeighborsClassifier\n",
    "import seaborn as sns #for plotting the correlation matrixa\n",
    "import matplotlib.pyplot as plt #for plotting bargraph and graph\n",
    "from sklearn.naive_bayes import GaussianNB"
   ]
  },
  {
   "cell_type": "code",
   "execution_count": 4,
   "metadata": {},
   "outputs": [
    {
     "name": "stdout",
     "output_type": "stream",
     "text": [
      "(1398, 16)\n",
      "(1398, 16) (1398, 15) (1398,)\n"
     ]
    }
   ],
   "source": [
    "df=pd.read_csv(\"oral_and _oropharyngeal_cancer_dataset.csv\")\n",
    "print(df.shape)\n",
    "data=np.array(df)\n",
    "#print(data)\n",
    "x=data[:,:-1] #extract all the features except target column \n",
    "y=data[:,-1] # extract target column\n",
    "print(data.shape,x.shape,y.shape)\n"
   ]
  },
  {
   "cell_type": "code",
   "execution_count": 5,
   "metadata": {},
   "outputs": [],
   "source": [
    "epsilon=0.0000001 # this is used to overcome an exception caused due to zero division\n",
    "for i in range(x.shape[1]):\n",
    "    min_=min(x[:,i])\n",
    "    max_=max(x[:,i])\n",
    "    x[:,i]=(x[:,i]-min_)/(max_-min_+epsilon) #convert values from 0 to 1 , staandardize the values\n",
    "    x[:,i]=(x[:,i]-np.mean(x[:,i]))/(np.std(x[:,i]+epsilon)) # mean and standard deviation of each feature should be\n",
    "                                                            # 0 and  1 repectively"
   ]
  },
  {
   "cell_type": "code",
   "execution_count": 6,
   "metadata": {
    "scrolled": true
   },
   "outputs": [
    {
     "name": "stdout",
     "output_type": "stream",
     "text": [
      "False\n",
      "False\n"
     ]
    }
   ],
   "source": [
    "print(any(np.mean(x,axis=0)>0.00001)) #check mean should be almost equal to 0\n",
    "print(any(np.std(x,axis=0)>1)) #check if any of the feature possess standard deviation > 1\n",
    "#print(np.mean(x,axis=0))\n",
    "#print(np.std(x,axis=0))"
   ]
  },
  {
   "cell_type": "code",
   "execution_count": 21,
   "metadata": {},
   "outputs": [
    {
     "data": {
      "image/png": "[encoded data removed]",
      "text/plain": [
       "<Figure size 432x288 with 2 Axes>"
      ]
     },
     "metadata": {
      "needs_background": "light"
     },
     "output_type": "display_data"
    }
   ],
   "source": [
    "heatmap_df=pd.DataFrame(x[:,:6]) # this heatmap is to show the correlation among the features of data\n",
    "cm=np.corrcoef(heatmap_df.values.T)\n",
    "sns.heatmap(cm,annot=True)\n",
    "plt.show()"
   ]
  },
  {
   "cell_type": "code",
   "execution_count": 10,
   "metadata": {},
   "outputs": [
    {
     "name": "stdout",
     "output_type": "stream",
     "text": [
      "(1118, 15) (1118,) (280, 15) (280,)\n"
     ]
    }
   ],
   "source": [
    "xtrain,xtest,ytrain,ytest=train_test_split(x,y,test_size=.20) #split the train and test data in ratio= 80:20\n",
    "print(xtrain.shape,ytrain.shape,xtest.shape,ytest.shape)"
   ]
  },
  {
   "cell_type": "code",
   "execution_count": 22,
   "metadata": {},
   "outputs": [
    {
     "name": "stdout",
     "output_type": "stream",
     "text": [
      "[0. 0. 0. ... 0. 0. 0.]\n"
     ]
    }
   ],
   "source": [
    "print(ytrain)\n",
    "for i in range(xtrain.shape[1]):\n",
    "    #print(x[:,i].dtype)\n",
    "    if any(xtrain[:,i]==np.nan):\n",
    "        print(\"true\")\n",
    "    if any(xtrain[:,i]==np.inf):\n",
    "        print(\"true\")"
   ]
  },
  {
   "cell_type": "code",
   "execution_count": 13,
   "metadata": {},
   "outputs": [
    {
     "name": "stdout",
     "output_type": "stream",
     "text": [
      "Accuracy Score : 0.82\n",
      "\n",
      "Confusion Matrix \n",
      " [[217  50]\n",
      " [  1  12]]\n",
      "\n",
      "classification report \n",
      "               precision    recall  f1-score   support\n",
      "\n",
      "         0.0       1.00      0.81      0.89       267\n",
      "         1.0       0.19      0.92      0.32        13\n",
      "\n",
      "    accuracy                           0.82       280\n",
      "   macro avg       0.59      0.87      0.61       280\n",
      "weighted avg       0.96      0.82      0.87       280\n",
      "\n"
     ]
    }
   ],
   "source": [
    "lr=LogisticRegression(penalty='l2',solver='lbfgs') \n",
    "lr.fit(xtrain,ytrain)\n",
    "pred=lr.predict(xtest)\n",
    "lr_acc=accuracy_score(pred,ytest)\n",
    "print(\"Accuracy Score : %.2f\"%lr_acc)\n",
    "print(\"\\nConfusion Matrix \\n\",confusion_matrix(pred,ytest)) # it is used to show the true positive ,true negative,false positive and false negative\n",
    "print(\"\\nclassification report \\n\",classification_report(pred,ytest))# it shows the precision , recall and f1 score of model"
   ]
  },
  {
   "cell_type": "code",
   "execution_count": 23,
   "metadata": {},
   "outputs": [
    {
     "name": "stdout",
     "output_type": "stream",
     "text": [
      "Accuracy Score : 0.93\n",
      "\n",
      "Confusion Matrix \n",
      " [[214  17]\n",
      " [  4  45]]\n",
      "\n",
      "classification report \n",
      "               precision    recall  f1-score   support\n",
      "\n",
      "         0.0       0.98      0.93      0.95       231\n",
      "         1.0       0.73      0.92      0.81        49\n",
      "\n",
      "    accuracy                           0.93       280\n",
      "   macro avg       0.85      0.92      0.88       280\n",
      "weighted avg       0.94      0.93      0.93       280\n",
      "\n"
     ]
    }
   ],
   "source": [
    "classifier = KNeighborsClassifier(n_neighbors=2)\n",
    "classifier.fit(xtrain, ytrain)\n",
    "pred = classifier.predict(xtest)\n",
    "knn_acc=accuracy_score(pred,ytest)\n",
    "print(\"Accuracy Score : %.2f\"%knn_acc)\n",
    "print(\"\\nConfusion Matrix \\n\",confusion_matrix(pred,ytest))\n",
    "print(\"\\nclassification report \\n\",classification_report(pred,ytest))"
   ]
  },
  {
   "cell_type": "code",
   "execution_count": 24,
   "metadata": {},
   "outputs": [
    {
     "name": "stdout",
     "output_type": "stream",
     "text": [
      "Accuracy Score : 0.26\n",
      "\n",
      "Confusion Matrix \n",
      " [[ 14   4]\n",
      " [204  58]]\n",
      "\n",
      "classification report \n",
      "               precision    recall  f1-score   support\n",
      "\n",
      "         0.0       0.06      0.78      0.12        18\n",
      "         1.0       0.94      0.22      0.36       262\n",
      "\n",
      "    accuracy                           0.26       280\n",
      "   macro avg       0.50      0.50      0.24       280\n",
      "weighted avg       0.88      0.26      0.34       280\n",
      "\n"
     ]
    }
   ],
   "source": [
    "classifier = GaussianNB() #naive bayes classifier\n",
    "classifier.fit(xtrain,ytrain)\n",
    "ypred=classifier.predict(xtest)\n",
    "gnb_acc=accuracy_score(ypred,ytest)\n",
    "print(\"Accuracy Score : %.2f\"%gnb_acc)\n",
    "print(\"\\nConfusion Matrix \\n\",confusion_matrix(ypred,ytest))\n",
    "print(\"\\nclassification report \\n\",classification_report(ypred,ytest))"
   ]
  },
  {
   "cell_type": "code",
   "execution_count": 25,
   "metadata": {},
   "outputs": [],
   "source": [
    "#multilayer perceptron with softmax activation function \n",
    "from keras.models import Sequential \n",
    "from keras.layers import Dense , BatchNormalization , Dropout\n",
    "#dense is a type of layer that build a matrix of size [units , features].Units are set explicitly and features are the previous layer units\n",
    "#BatchNormalization is used to set the mean std deviation to 0 and 1 i.e to normalize the activations of previous layer\n",
    "#dropout layer is used to randomly dropout the units by some probability\n",
    "import keras.backend as k\n",
    "import tensorflow as tf\n",
    "from keras import losses, optimizers, regularizers\n",
    "#looses used to calculate loss\n",
    "#optimizers help in converging faster\n",
    "#regularizers help gradients not explode \n",
    "from keras.utils import to_categorical"
   ]
  },
  {
   "cell_type": "code",
   "execution_count": 27,
   "metadata": {},
   "outputs": [
    {
     "name": "stdout",
     "output_type": "stream",
     "text": [
      "(1118, 2)\n"
     ]
    }
   ],
   "source": [
    "y_train=to_categorical(ytrain) # to convert the labels into one hot encoding\n",
    "print(y_train.shape)"
   ]
  },
  {
   "cell_type": "code",
   "execution_count": 28,
   "metadata": {},
   "outputs": [
    {
     "name": "stdout",
     "output_type": "stream",
     "text": [
      "Epoch 1/70\n",
      "1118/1118 [==============================] - 2s 2ms/step - loss: 1.3666 - acc: 0.6592\n",
      "Epoch 2/70\n",
      "1118/1118 [==============================] - 0s 140us/step - loss: 1.1532 - acc: 0.8005\n",
      "Epoch 3/70\n",
      "1118/1118 [==============================] - 0s 130us/step - loss: 1.0514 - acc: 0.8524\n",
      "Epoch 4/70\n",
      "1118/1118 [==============================] - 0s 141us/step - loss: 0.9516 - acc: 0.8846\n",
      "Epoch 5/70\n",
      "1118/1118 [==============================] - 0s 150us/step - loss: 0.8960 - acc: 0.8882\n",
      "Epoch 6/70\n",
      "1118/1118 [==============================] - 0s 137us/step - loss: 0.8376 - acc: 0.9052\n",
      "Epoch 7/70\n",
      "1118/1118 [==============================] - 0s 136us/step - loss: 0.7998 - acc: 0.9052\n",
      "Epoch 8/70\n",
      "1118/1118 [==============================] - 0s 168us/step - loss: 0.7505 - acc: 0.9141\n",
      "Epoch 9/70\n",
      "1118/1118 [==============================] - 0s 161us/step - loss: 0.7152 - acc: 0.9097\n",
      "Epoch 10/70\n",
      "1118/1118 [==============================] - 0s 207us/step - loss: 0.6781 - acc: 0.9195\n",
      "Epoch 11/70\n",
      "1118/1118 [==============================] - 0s 244us/step - loss: 0.6498 - acc: 0.9204\n",
      "Epoch 12/70\n",
      "1118/1118 [==============================] - 0s 171us/step - loss: 0.6442 - acc: 0.9141\n",
      "Epoch 13/70\n",
      "1118/1118 [==============================] - 0s 170us/step - loss: 0.6139 - acc: 0.9249\n",
      "Epoch 14/70\n",
      "1118/1118 [==============================] - 0s 203us/step - loss: 0.5579 - acc: 0.9374\n",
      "Epoch 15/70\n",
      "1118/1118 [==============================] - 0s 149us/step - loss: 0.5587 - acc: 0.9275\n",
      "Epoch 16/70\n",
      "1118/1118 [==============================] - 0s 129us/step - loss: 0.5311 - acc: 0.9329\n",
      "Epoch 17/70\n",
      "1118/1118 [==============================] - 0s 140us/step - loss: 0.5029 - acc: 0.9383\n",
      "Epoch 18/70\n",
      "1118/1118 [==============================] - 0s 133us/step - loss: 0.5108 - acc: 0.9365\n",
      "Epoch 19/70\n",
      "1118/1118 [==============================] - 0s 133us/step - loss: 0.4841 - acc: 0.9383\n",
      "Epoch 20/70\n",
      "1118/1118 [==============================] - 0s 126us/step - loss: 0.4767 - acc: 0.9356\n",
      "Epoch 21/70\n",
      "1118/1118 [==============================] - 0s 122us/step - loss: 0.4539 - acc: 0.9392\n",
      "Epoch 22/70\n",
      "1118/1118 [==============================] - 0s 139us/step - loss: 0.4445 - acc: 0.9454\n",
      "Epoch 23/70\n",
      "1118/1118 [==============================] - 0s 138us/step - loss: 0.4560 - acc: 0.9356\n",
      "Epoch 24/70\n",
      "1118/1118 [==============================] - 0s 158us/step - loss: 0.4163 - acc: 0.9428\n",
      "Epoch 25/70\n",
      "1118/1118 [==============================] - 0s 154us/step - loss: 0.4069 - acc: 0.9401\n",
      "Epoch 26/70\n",
      "1118/1118 [==============================] - 0s 181us/step - loss: 0.4011 - acc: 0.9454\n",
      "Epoch 27/70\n",
      "1118/1118 [==============================] - 0s 176us/step - loss: 0.3837 - acc: 0.9508\n",
      "Epoch 28/70\n",
      "1118/1118 [==============================] - 0s 175us/step - loss: 0.3814 - acc: 0.9472\n",
      "Epoch 29/70\n",
      "1118/1118 [==============================] - 0s 157us/step - loss: 0.3595 - acc: 0.9526\n",
      "Epoch 30/70\n",
      "1118/1118 [==============================] - 0s 167us/step - loss: 0.3665 - acc: 0.9508\n",
      "Epoch 31/70\n",
      "1118/1118 [==============================] - 0s 206us/step - loss: 0.3550 - acc: 0.9481\n",
      "Epoch 32/70\n",
      "1118/1118 [==============================] - 0s 207us/step - loss: 0.3788 - acc: 0.9365\n",
      "Epoch 33/70\n",
      "1118/1118 [==============================] - 0s 213us/step - loss: 0.3736 - acc: 0.9347\n",
      "Epoch 34/70\n",
      "1118/1118 [==============================] - 0s 200us/step - loss: 0.3247 - acc: 0.9615\n",
      "Epoch 35/70\n",
      "1118/1118 [==============================] - 0s 266us/step - loss: 0.3357 - acc: 0.9526\n",
      "Epoch 36/70\n",
      "1118/1118 [==============================] - 0s 178us/step - loss: 0.3256 - acc: 0.9553\n",
      "Epoch 37/70\n",
      "1118/1118 [==============================] - 0s 166us/step - loss: 0.3244 - acc: 0.9499\n",
      "Epoch 38/70\n",
      "1118/1118 [==============================] - 0s 131us/step - loss: 0.3353 - acc: 0.9445\n",
      "Epoch 39/70\n",
      "1118/1118 [==============================] - 0s 128us/step - loss: 0.3054 - acc: 0.9535\n",
      "Epoch 40/70\n",
      "1118/1118 [==============================] - 0s 151us/step - loss: 0.2954 - acc: 0.9580\n",
      "Epoch 41/70\n",
      "1118/1118 [==============================] - 0s 166us/step - loss: 0.3167 - acc: 0.9517\n",
      "Epoch 42/70\n",
      "1118/1118 [==============================] - ETA: 0s - loss: 0.2728 - acc: 0.967 - 0s 185us/step - loss: 0.2789 - acc: 0.9642\n",
      "Epoch 43/70\n",
      "1118/1118 [==============================] - 0s 162us/step - loss: 0.2746 - acc: 0.9651\n",
      "Epoch 44/70\n",
      "1118/1118 [==============================] - 0s 183us/step - loss: 0.2837 - acc: 0.9615\n",
      "Epoch 45/70\n",
      "1118/1118 [==============================] - 0s 142us/step - loss: 0.2801 - acc: 0.9562\n",
      "Epoch 46/70\n",
      "1118/1118 [==============================] - 0s 168us/step - loss: 0.2791 - acc: 0.9615\n",
      "Epoch 47/70\n",
      "1118/1118 [==============================] - 0s 164us/step - loss: 0.2774 - acc: 0.9589\n",
      "Epoch 48/70\n",
      "1118/1118 [==============================] - 0s 149us/step - loss: 0.2650 - acc: 0.9571\n",
      "Epoch 49/70\n",
      "1118/1118 [==============================] - 0s 163us/step - loss: 0.2600 - acc: 0.9597\n",
      "Epoch 50/70\n",
      "1118/1118 [==============================] - 0s 177us/step - loss: 0.2533 - acc: 0.9669\n",
      "Epoch 51/70\n",
      "1118/1118 [==============================] - 0s 176us/step - loss: 0.2461 - acc: 0.9687\n",
      "Epoch 52/70\n",
      "1118/1118 [==============================] - 0s 135us/step - loss: 0.2581 - acc: 0.9660\n",
      "Epoch 53/70\n",
      "1118/1118 [==============================] - 0s 151us/step - loss: 0.2455 - acc: 0.9669\n",
      "Epoch 54/70\n",
      "1118/1118 [==============================] - 0s 140us/step - loss: 0.2726 - acc: 0.9544\n",
      "Epoch 55/70\n",
      "1118/1118 [==============================] - 0s 186us/step - loss: 0.2459 - acc: 0.9642\n",
      "Epoch 56/70\n",
      "1118/1118 [==============================] - 0s 199us/step - loss: 0.2441 - acc: 0.9651\n",
      "Epoch 57/70\n",
      "1118/1118 [==============================] - 0s 243us/step - loss: 0.2199 - acc: 0.9687\n",
      "Epoch 58/70\n",
      "1118/1118 [==============================] - 0s 269us/step - loss: 0.2479 - acc: 0.9544\n",
      "Epoch 59/70\n",
      "1118/1118 [==============================] - 0s 173us/step - loss: 0.2379 - acc: 0.9580\n",
      "Epoch 60/70\n",
      "1118/1118 [==============================] - 0s 174us/step - loss: 0.2491 - acc: 0.9508\n",
      "Epoch 61/70\n",
      "1118/1118 [==============================] - 0s 167us/step - loss: 0.2164 - acc: 0.9678\n",
      "Epoch 62/70\n",
      "1118/1118 [==============================] - 0s 137us/step - loss: 0.2309 - acc: 0.9597\n",
      "Epoch 63/70\n",
      "1118/1118 [==============================] - 0s 138us/step - loss: 0.2008 - acc: 0.9741\n",
      "Epoch 64/70\n",
      "1118/1118 [==============================] - 0s 140us/step - loss: 0.1943 - acc: 0.9758\n",
      "Epoch 65/70\n",
      "1118/1118 [==============================] - 0s 138us/step - loss: 0.2141 - acc: 0.9615\n",
      "Epoch 66/70\n",
      "1118/1118 [==============================] - 0s 152us/step - loss: 0.2460 - acc: 0.9589\n",
      "Epoch 67/70\n",
      "1118/1118 [==============================] - 0s 170us/step - loss: 0.2063 - acc: 0.9669\n",
      "Epoch 68/70\n",
      "1118/1118 [==============================] - 0s 170us/step - loss: 0.1972 - acc: 0.9669\n",
      "Epoch 69/70\n",
      "1118/1118 [==============================] - 0s 177us/step - loss: 0.2277 - acc: 0.9580\n",
      "Epoch 70/70\n",
      "1118/1118 [==============================] - 0s 157us/step - loss: 0.2015 - acc: 0.9669\n"
     ]
    }
   ],
   "source": [
    "model = Sequential()\n",
    "model.add(Dense(64,activation='relu',kernel_regularizer='l2'))\n",
    "model.add(BatchNormalization())\n",
    "model.add(Dense(32,activation='relu',kernel_regularizer='l2'))\n",
    "model.add(BatchNormalization())\n",
    "model.add(Dense(16,activation='relu')) # relu activation function has high converging rate than sigmoid or tanh because it has high slope\n",
    "model.add(BatchNormalization())\n",
    "model.add(Dense(16,activation='relu'))\n",
    "model.add(Dense(8,activation='relu'))\n",
    "model.add(BatchNormalization())\n",
    "model.add(Dense(2,activation= \"softmax\"))  # softmax gives the probability distribution of each category\n",
    "model.compile(loss='categorical_crossentropy' , optimizer = \"adam\" , metrics = [\"accuracy\"])\n",
    "history = model.fit(xtrain,y_train , epochs =70 , batch_size=32)"
   ]
  },
  {
   "cell_type": "code",
   "execution_count": 29,
   "metadata": {},
   "outputs": [
    {
     "name": "stdout",
     "output_type": "stream",
     "text": [
      "0.93\n"
     ]
    },
    {
     "data": {
      "text/plain": [
       "[<matplotlib.lines.Line2D at 0x7f7562ca7c50>]"
      ]
     },
     "execution_count": 29,
     "metadata": {},
     "output_type": "execute_result"
    },
    {
     "data": {
      "image/png": "[encoded data removed]",
      "text/plain": [
       "<Figure size 432x288 with 1 Axes>"
      ]
     },
     "metadata": {
      "needs_background": "light"
     },
     "output_type": "display_data"
    }
   ],
   "source": [
    "ypred=np.argmax(model.predict(xtest) , axis =1)\n",
    "mlp_acc=accuracy_score(ypred,ytest)\n",
    "print(\"%.2f\"%mlp_acc)\n",
    "plt.plot(history.history['loss']) #plot the loss for each iteration\n"
   ]
  },
  {
   "cell_type": "code",
   "execution_count": 30,
   "metadata": {},
   "outputs": [
    {
     "data": {
      "image/png": "[encoded data removed]",
      "text/plain": [
       "<Figure size 432x288 with 1 Axes>"
      ]
     },
     "metadata": {
      "needs_background": "light"
     },
     "output_type": "display_data"
    }
   ],
   "source": [
    "y_axis=[mlp_acc,knn_acc,lr_acc,gnb_acc]\n",
    "x_axis=np.arange(len(y_axis))+1\n",
    "x_lables=[\"mlp acc= %.2f\"%mlp_acc,\"knn acc = %.2f\"%knn_acc, \" lr acc= %.2f\"%lr_acc , \"nb acc = %.2f\"%gnb_acc]\n",
    "plt.bar(x_axis,y_axis,align=\"center\",color=\"red\") #this bargraph shows the accuracy of each model\n",
    "plt.xticks(x_axis,x_lables) \n",
    "plt.show() "
   ]
  },
  {
   "cell_type": "code",
   "execution_count": null,
   "metadata": {},
   "outputs": [],
   "source": []
  }
 ],
 "metadata": {
  "kernelspec": {
   "display_name": "Python 3",
   "language": "python",
   "name": "python3"
  },
  "language_info": {
   "codemirror_mode": {
    "name": "ipython",
    "version": 3
   },
   "file_extension": ".py",
   "mimetype": "text/x-python",
   "name": "python",
   "nbconvert_exporter": "python",
   "pygments_lexer": "ipython3",
   "version": "3.6.9"
  }
 },
 "nbformat": 4,
 "nbformat_minor": 2
}
